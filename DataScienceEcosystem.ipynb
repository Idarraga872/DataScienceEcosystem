{
 "cells": [
  {
   "cell_type": "markdown",
   "id": "3dce36e5",
   "metadata": {},
   "source": [
    "# Data Science Tools and Ecosystem"
   ]
  },
  {
   "cell_type": "markdown",
   "id": "bac478c1",
   "metadata": {},
   "source": [
    "### In this notebook, Data Science Tools and Ecosystem are summarized."
   ]
  },
  {
   "cell_type": "markdown",
   "id": "d8153f97",
   "metadata": {},
   "source": [
    "<h3>Some of the popular languages that Data Scientists use are</h3>\n",
    "<ol>\n",
    "    <li>Python</li>\n",
    "    <li>R</li>\n",
    "    <li>SQL</li>\n",
    "    <li>Scala</li>\n",
    "    <li>Java</li>\n",
    "    <li>Julia</li>\n",
    "</ol>"
   ]
  },
  {
   "cell_type": "markdown",
   "id": "ba8699ce",
   "metadata": {},
   "source": [
    "<h3>Some of the commonly used libraries used by Data Scientists include:</h3>\n",
    "<ol>\n",
    "    <li>Numpy</li>\n",
    "    <li>Pandas</li>\n",
    "    <li>Scikit Learn</li>\n",
    "</ol>"
   ]
  },
  {
   "cell_type": "markdown",
   "id": "a6fd9f83",
   "metadata": {},
   "source": [
    "<table>\n",
    "  <tr>\n",
    "    <th>Data Science Tools</th>\n",
    "  </tr>\n",
    "  <tr>\n",
    "    <td>Pandas</td>\n",
    "  </tr>\n",
    "  <tr>\n",
    "    <td>Spark</td>\n",
    "  </tr>\n",
    "  <tr>\n",
    "    <td>TensorFlow</td>\n",
    "  </tr>\n",
    "</table>"
   ]
  },
  {
   "cell_type": "markdown",
   "id": "36e06ea3",
   "metadata": {},
   "source": [
    "### Below are a few examples of evaluating arithmetic expressions in Python"
   ]
  },
  {
   "cell_type": "code",
   "execution_count": 1,
   "id": "8847de8e",
   "metadata": {},
   "outputs": [
    {
     "data": {
      "text/plain": [
       "17"
      ]
     },
     "execution_count": 1,
     "metadata": {},
     "output_type": "execute_result"
    }
   ],
   "source": [
    "# This is a simple arithmetic expression to multiply then add integers\n",
    "(3 * 4) + 5"
   ]
  },
  {
   "cell_type": "code",
   "execution_count": 2,
   "id": "0327a4ad",
   "metadata": {},
   "outputs": [
    {
     "data": {
      "text/plain": [
       "3.3333333333333335"
      ]
     },
     "execution_count": 2,
     "metadata": {},
     "output_type": "execute_result"
    }
   ],
   "source": [
    "# This will convert 200 minutes to hours by dividing by 60\n",
    "200 / 60"
   ]
  },
  {
   "cell_type": "markdown",
   "id": "7d05390d",
   "metadata": {},
   "source": [
    "<h3>Objectives:</h3>\n",
    "<ul>\n",
    "    <li>List popular languages for Data Science</li>\n",
    "    <li>List popular libraries used by Data Scientists</li>\n",
    "    <li>List popular Data Science Tools</li>\n",
    "    <li>Make examples of arithmetic expressions in Python</li>\n",
    "</ul>"
   ]
  },
  {
   "cell_type": "markdown",
   "id": "e37edf24",
   "metadata": {},
   "source": [
    "## Author  \n",
    "Juan Camilo Idárraga"
   ]
  },
  {
   "cell_type": "code",
   "execution_count": null,
   "id": "bb605d4c",
   "metadata": {},
   "outputs": [],
   "source": []
  }
 ],
 "metadata": {
  "kernelspec": {
   "display_name": "Python 3 (ipykernel)",
   "language": "python",
   "name": "python3"
  },
  "language_info": {
   "codemirror_mode": {
    "name": "ipython",
    "version": 3
   },
   "file_extension": ".py",
   "mimetype": "text/x-python",
   "name": "python",
   "nbconvert_exporter": "python",
   "pygments_lexer": "ipython3",
   "version": "3.9.12"
  }
 },
 "nbformat": 4,
 "nbformat_minor": 5
}
